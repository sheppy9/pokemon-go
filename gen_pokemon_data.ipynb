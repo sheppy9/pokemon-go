{
 "cells": [
  {
   "cell_type": "code",
   "execution_count": null,
   "metadata": {},
   "outputs": [],
   "source": [
    "import json\n",
    "import pandas as pd\n",
    "\n",
    "from glob import glob\n",
    "from concurrent.futures import ThreadPoolExecutor\n",
    "\n",
    "data_root = 'data/gamepress/pokemon'\n",
    "\n",
    "def process_pokemon_file(pokemon_file):\n",
    "\ttry:\n",
    "\t\twith open(pokemon_file) as f:\n",
    "\t\t\tpokemon_data = json.load(f)\n",
    "\t\t\tweaknesses = pokemon_data.get('weaknesses', [])\n",
    "\t\t\tresistances = pokemon_data.get('resistances', [])\n",
    "\t\t\tweakness_str = ','.join([_['type'] for _ in weaknesses])\n",
    "\t\t\tnot_resistance_str = '&'.join([f'!{_[\"type\"]}' for _ in resistances])\n",
    "\t\t\tsearch_str = f'{not_resistance_str}&{weakness_str}'\n",
    "\t\t\treturn {\n",
    "\t\t\t\t'name': pokemon_data.get('name'),\n",
    "\t\t\t\t'search': search_str,\n",
    "\t\t\t\t'type': ','.join(pokemon_data.get('types', [])),\n",
    "\t\t\t\t# 'fast_moves': ','.join([_['name'] for _ in pokemon_data.get('fast_moves', [])]),\n",
    "\t\t\t\t# 'charge_moves': ','.join([_['name'] for _ in pokemon_data.get('charge_moves', [])]),\n",
    "\t\t\t\t# 'weaknesses': weakness_str,\n",
    "\t\t\t\t# 'resistances': ','.join([_['type'] for _ in resistances]),\n",
    "\t\t\t\t# 'attack': pokemon_data.get('attack'),\n",
    "\t\t\t\t# 'defense': pokemon_data.get('defense'),\n",
    "\t\t\t\t# 'stamina': pokemon_data.get('stamina'),\n",
    "\t\t\t\t'max_cp': pokemon_data.get('max_cp')\n",
    "\t\t\t}\n",
    "\texcept:\n",
    "\t\tprint(f'Error processing {pokemon_file}. {e}')\n",
    "\n",
    "with ThreadPoolExecutor() as executor:\n",
    "\tpokemon_files = glob(f'{data_root}/*.json')\n",
    "\tprint(f'No. of pokemon files: {len(pokemon_files)}')\n",
    "\tpokemon_datas = list(executor.map(process_pokemon_file, pokemon_files))\n",
    "\n",
    "pokemons_df = pd.DataFrame(pokemon_datas)\n",
    "\n",
    "pokemons_df.to_json(f'data/json/individual_pokemon.json', orient='records')\n",
    "pokemons_df"
   ]
  }
 ],
 "metadata": {
  "kernelspec": {
   "display_name": ".venv",
   "language": "python",
   "name": "python3"
  },
  "language_info": {
   "codemirror_mode": {
    "name": "ipython",
    "version": 3
   },
   "file_extension": ".py",
   "mimetype": "text/x-python",
   "name": "python",
   "nbconvert_exporter": "python",
   "pygments_lexer": "ipython3",
   "version": "3.12.8"
  }
 },
 "nbformat": 4,
 "nbformat_minor": 2
}
