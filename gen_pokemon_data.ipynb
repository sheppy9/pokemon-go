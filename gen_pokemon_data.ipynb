{
 "cells": [
  {
   "cell_type": "code",
   "execution_count": null,
   "metadata": {},
   "outputs": [],
   "source": [
    "import json\n",
    "import pandas as pd\n",
    "\n",
    "from glob import glob\n",
    "from concurrent.futures import ThreadPoolExecutor\n",
    "\n",
    "data_root = 'data/gamepress/pokemons'\n",
    "\n",
    "def process_pokemon_file(pokemon_file):\n",
    "\ttry:\n",
    "\t\twith open(pokemon_file) as f:\n",
    "\t\t\tpokemon_data = json.load(f)\n",
    "\t\t\t\n",
    "\t\t\tweaknesses = pokemon_data.get('weaknesses', [])\n",
    "\t\t\t# resistances = pokemon_data.get('resistances', [])\n",
    "\t\t\t# weakness_str = ','.join([_['type'] for _ in weaknesses])\n",
    "\t\t\t# not_resistance_str = '&'.join([f'!{_[\"type\"]}' for _ in resistances])\n",
    "\t\t\t# search_str = f'{not_resistance_str}&{weakness_str}'\n",
    "\n",
    "\t\t\tskills = []\n",
    "\t\t\tfor i in range(1, 4):\n",
    "\t\t\t\tfor _ in [_['type'] for _ in weaknesses]:\n",
    "\t\t\t\t\tskills.append(f'@{i}{_}')\n",
    "\n",
    "\t\t\tsearch_str = ','.join(skills[:len(weaknesses)]) + '&' + ','.join(skills[len(weaknesses):])\n",
    "\n",
    "\t\t\tname = pokemon_data.get('name')\n",
    "\t\t\tif name is None:\n",
    "\t\t\t\tname_id = pokemon_data.get('id')\n",
    "\t\t\t\tname = ' '.join([_.capitalize() for _ in name_id.split('-')])\n",
    "\n",
    "\t\t\treturn {\n",
    "\t\t\t\t'name': name,\n",
    "\t\t\t\t'search': search_str,\n",
    "\t\t\t\t'type': ','.join(pokemon_data.get('types', [])),\n",
    "\t\t\t\t# 'fast_moves': ','.join([_['name'] for _ in pokemon_data.get('fast_moves', [])]),\n",
    "\t\t\t\t# 'charge_moves': ','.join([_['name'] for _ in pokemon_data.get('charge_moves', [])]),\n",
    "\t\t\t\t# 'weaknesses': weakness_str,\n",
    "\t\t\t\t# 'resistances': ','.join([_['type'] for _ in resistances]),\n",
    "\t\t\t\t# 'attack': pokemon_data.get('attack'),\n",
    "\t\t\t\t# 'defense': pokemon_data.get('defense'),\n",
    "\t\t\t\t# 'stamina': pokemon_data.get('stamina'),\n",
    "\t\t\t\t'max_cp': pokemon_data.get('max_cp')\n",
    "\t\t\t}\n",
    "\texcept Exception as e:\n",
    "\t\tprint(f'Error processing {pokemon_file}. {e}')\n",
    "\n",
    "with ThreadPoolExecutor() as executor:\n",
    "\tpokemon_files = glob(f'{data_root}/*.json')\n",
    "\tprint(f'No. of pokemon files: {len(pokemon_files)}')\n",
    "\tpokemon_datas = list(executor.map(process_pokemon_file, pokemon_files))\n",
    "\n",
    "pokemons_df = pd.DataFrame(pokemon_datas)\n",
    "\n",
    "pokemons_df.to_json(f'data/json/individual_pokemon.json', orient='records')\n",
    "# pokemons_df"
   ]
  }
 ],
 "metadata": {
  "kernelspec": {
   "display_name": ".venv",
   "language": "python",
   "name": "python3"
  },
  "language_info": {
   "codemirror_mode": {
    "name": "ipython",
    "version": 3
   },
   "file_extension": ".py",
   "mimetype": "text/x-python",
   "name": "python",
   "nbconvert_exporter": "python",
   "pygments_lexer": "ipython3",
   "version": "3.10.12"
  }
 },
 "nbformat": 4,
 "nbformat_minor": 2
}
